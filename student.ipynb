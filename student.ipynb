{
  "cells": [
    {
      "cell_type": "markdown",
      "metadata": {
        "id": "view-in-github",
        "colab_type": "text"
      },
      "source": [
        "<a href=\"https://colab.research.google.com/github/Lilian624/Microsoft-Movies-Project-1/blob/main/student.ipynb\" target=\"_parent\"><img src=\"https://colab.research.google.com/assets/colab-badge.svg\" alt=\"Open In Colab\"/></a>"
      ]
    },
    {
      "cell_type": "markdown",
      "metadata": {
        "id": "8Kbtv-L5Ex6p"
      },
      "source": [
        "## Final Project Submission\n",
        "\n",
        "Please fill out:\n",
        "* Student name: Lilian Muendo\n",
        "* Student pace: part time\n",
        "* Scheduled project review date/time: July 2024\n",
        "* Instructor name: Samwel Jane and Veronica Isiaho\n",
        "* Blog post URL:\n"
      ]
    },
    {
      "cell_type": "markdown",
      "source": [],
      "metadata": {
        "id": "4OvScKjZFZ1B"
      }
    },
    {
      "cell_type": "markdown",
      "source": [
        "**MOVIE STUDIO CREATION PROJECT**\n",
        "\n",
        "**STEP 1: PROJECT OVERVIEW**\n",
        "\n",
        "In this project we shall use data from already existing big movie companies exploring what types of films are currently doing the best at the box office and use our learnings to help and advise  Microsoft on how to create movie studios and on what type of films to create\n",
        "\n",
        "**STEP 2: DESCRIPTION OF OUR DATASET**\n",
        "\n"
      ],
      "metadata": {
        "id": "UOCblr-BHaDL"
      }
    },
    {
      "cell_type": "markdown",
      "source": [
        "IMPORTING LIBRARIES\n",
        "\n",
        "Data Exploration and Cleaning - Load , explore and clean the provided data sets   i.e\n",
        "\n",
        "imdb.title.basics\n",
        "\n",
        "imdb.title.ratings\n",
        "\n",
        "bom.movie_gross"
      ],
      "metadata": {
        "id": "xQ7MwpdAGbYY"
      }
    },
    {
      "cell_type": "markdown",
      "source": [
        "Python Tools to Use\n",
        "\n",
        "\n",
        "1.   Pandas\n",
        "2.   NumPy\n",
        "3. Matplotlib\n",
        "4. Seaborn\n",
        "\n",
        "\n",
        "\n",
        "\n"
      ],
      "metadata": {
        "id": "tQVyWuzQOvTj"
      }
    },
    {
      "cell_type": "code",
      "source": [
        "# Import Libraries\n",
        "import pandas as pd\n",
        "import numpy as np\n",
        "import seaborn as sns\n",
        "import matplotlib.pyplot as plt"
      ],
      "metadata": {
        "id": "yqAmVFEnPs_R"
      },
      "execution_count": 1,
      "outputs": []
    },
    {
      "cell_type": "markdown",
      "source": [
        "**Data Importing , Exploration and Cleaning**"
      ],
      "metadata": {
        "id": "oxzIAHgRQvrh"
      }
    },
    {
      "cell_type": "code",
      "source": [
        "#load first data set which is title ratings in csv version\n",
        "title_ratings = pd.read_csv('/content/title.ratings.csv')"
      ],
      "metadata": {
        "id": "hMfXF4w3SXxD"
      },
      "execution_count": 2,
      "outputs": []
    },
    {
      "cell_type": "code",
      "source": [
        "#load second data set which is title basics which is a csv fle\n",
        "title_basics = pd.read_csv('/content/title.basics.csv')"
      ],
      "metadata": {
        "id": "68nhdntuS50S"
      },
      "execution_count": 3,
      "outputs": []
    },
    {
      "cell_type": "code",
      "source": [
        "#load the third data set which is bom movie gross which is in a csv version\n",
        "movie_gross = pd.read_csv('/content/bom.movie_gross.csv')"
      ],
      "metadata": {
        "id": "CDz_9UOOTQ6T"
      },
      "execution_count": 4,
      "outputs": []
    }
  ],
  "metadata": {
    "kernelspec": {
      "display_name": "Python 3",
      "language": "python",
      "name": "python3"
    },
    "language_info": {
      "codemirror_mode": {
        "name": "ipython",
        "version": 3
      },
      "file_extension": ".py",
      "mimetype": "text/x-python",
      "name": "python",
      "nbconvert_exporter": "python",
      "pygments_lexer": "ipython3",
      "version": "3.6.4"
    },
    "colab": {
      "provenance": [],
      "include_colab_link": true
    }
  },
  "nbformat": 4,
  "nbformat_minor": 0
}